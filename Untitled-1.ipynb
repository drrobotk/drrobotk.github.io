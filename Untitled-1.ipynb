{
 "cells": [
  {
   "cell_type": "code",
   "execution_count": 10,
   "metadata": {},
   "outputs": [
    {
     "name": "stdout",
     "output_type": "stream",
     "text": [
      "Walthamstow\n"
     ]
    },
    {
     "data": {
      "text/plain": [
       "{'Walthamstow': 0.625, 'London': 0.375}"
      ]
     },
     "execution_count": 10,
     "metadata": {},
     "output_type": "execute_result"
    }
   ],
   "source": [
    "import requests\n",
    "from bs4 import BeautifulSoup\n",
    "import pandas as pd\n",
    "\n",
    "def is_float(str):\n",
    "    try:\n",
    "        float(str)\n",
    "        return True\n",
    "    except:\n",
    "        return False\n",
    "\n",
    "def concat_list(list):\n",
    "    a = []\n",
    "    for x in list:\n",
    "        a += x\n",
    "    return a\n",
    "\n",
    "data = {'query': '82.13.212.109', 'submit': 'IP Lookup'}\n",
    "\n",
    "r = requests.post('https://www.iplocation.net/ip-lookup', data=data)\n",
    "soup = BeautifulSoup(r.text, 'html.parser')\n",
    "\n",
    "df = pd.concat([pd.read_html(str(x))[0] for x in soup.find_all('table')]).dropna()\n",
    "city = df['City']['Longitude'].to_list()\n",
    "a = [x.split(' (') for x in city if not is_float(x)]\n",
    "b = concat_list(a)\n",
    "cnt = {}\n",
    "for x in b:\n",
    "    y = x.split(')')[0]\n",
    "    if y in cnt:\n",
    "        cnt[y] += 1\n",
    "    else:\n",
    "        cnt[y] = 1\n",
    "cnt = {k: v/sum(cnt.values()) for k, v in cnt.items()}\n",
    "cnt = {k: v for k, v in sorted(cnt.items(), key=lambda item: item[1], reverse=True)}\n",
    "likely_location = list(cnt.keys())[0]\n",
    "print(likely_location)\n",
    "cnt"
   ]
  },
  {
   "cell_type": "code",
   "execution_count": null,
   "metadata": {},
   "outputs": [],
   "source": []
  }
 ],
 "metadata": {
  "kernelspec": {
   "display_name": "Python 3",
   "language": "python",
   "name": "python3"
  },
  "language_info": {
   "codemirror_mode": {
    "name": "ipython",
    "version": 3
   },
   "file_extension": ".py",
   "mimetype": "text/x-python",
   "name": "python",
   "nbconvert_exporter": "python",
   "pygments_lexer": "ipython3",
   "version": "3.9.13"
  },
  "orig_nbformat": 4,
  "vscode": {
   "interpreter": {
    "hash": "ff4f85d6e04298634172ac5d8264e7e9b556b95639fe52ebb9425c4d4cba0c9c"
   }
  }
 },
 "nbformat": 4,
 "nbformat_minor": 2
}
